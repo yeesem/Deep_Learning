{
  "nbformat": 4,
  "nbformat_minor": 0,
  "metadata": {
    "colab": {
      "provenance": [],
      "authorship_tag": "ABX9TyOOZ67owPGJzNT8+cbXGB2O",
      "include_colab_link": true
    },
    "kernelspec": {
      "name": "python3",
      "display_name": "Python 3"
    },
    "language_info": {
      "name": "python"
    }
  },
  "cells": [
    {
      "cell_type": "markdown",
      "metadata": {
        "id": "view-in-github",
        "colab_type": "text"
      },
      "source": [
        "<a href=\"https://colab.research.google.com/github/yeesem/Deep_Learning/blob/main/Basic_Mirrored_Strategy.ipynb\" target=\"_parent\"><img src=\"https://colab.research.google.com/assets/colab-badge.svg\" alt=\"Open In Colab\"/></a>"
      ]
    },
    {
      "cell_type": "markdown",
      "source": [
        "# Imports"
      ],
      "metadata": {
        "id": "NXer37AiHhpZ"
      }
    },
    {
      "cell_type": "code",
      "execution_count": 1,
      "metadata": {
        "id": "eILw3CiVHEye"
      },
      "outputs": [],
      "source": [
        "# Import TensorFlow and TensorFlow Datasets\n",
        "\n",
        "import tensorflow_datasets as tfds\n",
        "import tensorflow as tf\n",
        "tfds.disable_progress_bar()\n",
        "\n",
        "import os"
      ]
    },
    {
      "cell_type": "markdown",
      "source": [
        "# Load and Preprocess Data"
      ],
      "metadata": {
        "id": "ZiannXgeHqbb"
      }
    },
    {
      "cell_type": "code",
      "source": [
        "# Load the dataset we'll use for this lab\n",
        "datasets, info = tfds.load(name='mnist', with_info=True, as_supervised=True, data_dir='./data')\n",
        "\n",
        "mnist_train, mnist_test = datasets['train'], datasets['test']"
      ],
      "metadata": {
        "colab": {
          "base_uri": "https://localhost:8080/"
        },
        "id": "kJLeQSSXHo0n",
        "outputId": "d0453061-f54e-4d15-a7ee-98d74b4e4327"
      },
      "execution_count": 2,
      "outputs": [
        {
          "output_type": "stream",
          "name": "stdout",
          "text": [
            "Downloading and preparing dataset 11.06 MiB (download: 11.06 MiB, generated: 21.00 MiB, total: 32.06 MiB) to ./data/mnist/3.0.1...\n",
            "Dataset mnist downloaded and prepared to ./data/mnist/3.0.1. Subsequent calls will reuse this data.\n"
          ]
        }
      ]
    },
    {
      "cell_type": "code",
      "source": [
        "# Define the strategy to use and print the numbner of devices used\n",
        "strategy = tf.distribute.MirroredStrategy()\n",
        "print(\"Number of devices : {}\".format(strategy.num_replicas_in_sync))"
      ],
      "metadata": {
        "colab": {
          "base_uri": "https://localhost:8080/"
        },
        "id": "t3hhXzfJHvgy",
        "outputId": "bda4cf27-6183-4335-df5e-82e57cd9e7d8"
      },
      "execution_count": 11,
      "outputs": [
        {
          "output_type": "stream",
          "name": "stdout",
          "text": [
            "Number of devices : 1\n"
          ]
        }
      ]
    },
    {
      "cell_type": "code",
      "source": [
        "# Get the number of examples in the train and test sets\n",
        "num_train_examples = info.splits['train'].num_examples\n",
        "num_test_examples = info.splits['test'].num_examples\n",
        "\n",
        "BUFFER_SIZE = 10000\n",
        "\n",
        "BATCH_SIZE_PER_REPLICA = 64\n",
        "# Use for Mirrored Strategy\n",
        "BATCH_SIZE = BATCH_SIZE_PER_REPLICA * strategy.num_replicas_in_sync\n",
        "# Use for No Strategy\n",
        "# BATCH_SIZE = BATCH_SIZE_PER_REPLICA * 1"
      ],
      "metadata": {
        "id": "H15gMrZgIivc"
      },
      "execution_count": 12,
      "outputs": []
    },
    {
      "cell_type": "code",
      "source": [
        "def scale(image,label):\n",
        "  image = tf.cast(image,tf.float32)\n",
        "  image /= 255.0\n",
        "\n",
        "  return image,label"
      ],
      "metadata": {
        "id": "EdOQvBwwIoWI"
      },
      "execution_count": 15,
      "outputs": []
    },
    {
      "cell_type": "code",
      "source": [
        "# Set up the train and eval dataset\n",
        "train_dataset = mnist_train.map(scale).cache().shuffle(BUFFER_SIZE).batch(BATCH_SIZE)\n",
        "eval_dataset = mnist_test.map(scale).batch(BATCH_SIZE)"
      ],
      "metadata": {
        "id": "MNVqtKhbI7Hp"
      },
      "execution_count": 17,
      "outputs": []
    },
    {
      "cell_type": "markdown",
      "source": [
        "# Model Training"
      ],
      "metadata": {
        "id": "yj0wqoD1MQpH"
      }
    },
    {
      "cell_type": "code",
      "source": [
        "# Use for Mirrored Strategy -- comment out `with strategy.scope():` and deindent for no strategy\n",
        "with strategy.scope():\n",
        "    model = tf.keras.Sequential([\n",
        "      tf.keras.layers.Conv2D(32, 3, activation='relu', input_shape=(28, 28, 1)),\n",
        "      tf.keras.layers.MaxPooling2D(),\n",
        "      tf.keras.layers.Flatten(),\n",
        "      tf.keras.layers.Dense(64, activation='relu'),\n",
        "      tf.keras.layers.Dense(10)\n",
        "    ])"
      ],
      "metadata": {
        "id": "hFRIOIA0Jw_F"
      },
      "execution_count": 18,
      "outputs": []
    },
    {
      "cell_type": "code",
      "source": [
        "model.compile(loss=tf.keras.losses.SparseCategoricalCrossentropy(from_logits=True),\n",
        "                optimizer=tf.keras.optimizers.Adam(),\n",
        "                metrics=['accuracy'])"
      ],
      "metadata": {
        "id": "Zx8BfmRvKThq"
      },
      "execution_count": 19,
      "outputs": []
    },
    {
      "cell_type": "code",
      "source": [
        "model.fit(train_dataset, epochs=12)"
      ],
      "metadata": {
        "colab": {
          "base_uri": "https://localhost:8080/"
        },
        "id": "H9Lh07U8KU3z",
        "outputId": "4257af3c-66c8-442b-e761-bc9246d9343f"
      },
      "execution_count": 20,
      "outputs": [
        {
          "output_type": "stream",
          "name": "stdout",
          "text": [
            "Epoch 1/12\n",
            "938/938 [==============================] - 38s 38ms/step - loss: 0.1930 - accuracy: 0.9422\n",
            "Epoch 2/12\n",
            "938/938 [==============================] - 28s 30ms/step - loss: 0.0645 - accuracy: 0.9808\n",
            "Epoch 3/12\n",
            "938/938 [==============================] - 26s 28ms/step - loss: 0.0456 - accuracy: 0.9859\n",
            "Epoch 4/12\n",
            "938/938 [==============================] - 26s 28ms/step - loss: 0.0336 - accuracy: 0.9897\n",
            "Epoch 5/12\n",
            "938/938 [==============================] - 26s 28ms/step - loss: 0.0263 - accuracy: 0.9919\n",
            "Epoch 6/12\n",
            "938/938 [==============================] - 25s 27ms/step - loss: 0.0196 - accuracy: 0.9937\n",
            "Epoch 7/12\n",
            "938/938 [==============================] - 25s 27ms/step - loss: 0.0151 - accuracy: 0.9954\n",
            "Epoch 8/12\n",
            "938/938 [==============================] - 28s 30ms/step - loss: 0.0109 - accuracy: 0.9966\n",
            "Epoch 9/12\n",
            "938/938 [==============================] - 26s 28ms/step - loss: 0.0090 - accuracy: 0.9973\n",
            "Epoch 10/12\n",
            "938/938 [==============================] - 26s 28ms/step - loss: 0.0073 - accuracy: 0.9977\n",
            "Epoch 11/12\n",
            "938/938 [==============================] - 26s 28ms/step - loss: 0.0051 - accuracy: 0.9988\n",
            "Epoch 12/12\n",
            "938/938 [==============================] - 26s 28ms/step - loss: 0.0064 - accuracy: 0.9980\n"
          ]
        },
        {
          "output_type": "execute_result",
          "data": {
            "text/plain": [
              "<keras.src.callbacks.History at 0x78ecd9586350>"
            ]
          },
          "metadata": {},
          "execution_count": 20
        }
      ]
    }
  ]
}