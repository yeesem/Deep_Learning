{
  "nbformat": 4,
  "nbformat_minor": 0,
  "metadata": {
    "colab": {
      "provenance": [],
      "authorship_tag": "ABX9TyP2QHuRfBmNDxxnS7MKr/CU",
      "include_colab_link": true
    },
    "kernelspec": {
      "name": "python3",
      "display_name": "Python 3"
    },
    "language_info": {
      "name": "python"
    }
  },
  "cells": [
    {
      "cell_type": "markdown",
      "metadata": {
        "id": "view-in-github",
        "colab_type": "text"
      },
      "source": [
        "<a href=\"https://colab.research.google.com/github/yeesem/Deep_Learning/blob/main/Build_Basic_Custus_Model_(Wide_and_Deep_Model).ipynb\" target=\"_parent\"><img src=\"https://colab.research.google.com/assets/colab-badge.svg\" alt=\"Open In Colab\"/></a>"
      ]
    },
    {
      "cell_type": "code",
      "execution_count": 3,
      "metadata": {
        "id": "2Q_pDG6GBSIy"
      },
      "outputs": [],
      "source": [
        "import tensorflow as tf\n",
        "from tensorflow.keras import Model\n",
        "from tensorflow.keras.layers import Dense\n",
        "from tensorflow.keras.layers import concatenate\n",
        "from tensorflow.keras.layers import Input\n",
        "from tensorflow.keras.utils import plot_model"
      ]
    },
    {
      "cell_type": "markdown",
      "source": [
        "# Build the Model"
      ],
      "metadata": {
        "id": "wJh8Pa0kElZ-"
      }
    },
    {
      "cell_type": "code",
      "source": [
        "# Define inputs\n",
        "input_a = Input(shape = [1],name = 'Wide_Input')\n",
        "input_b = Input(shape = [1],name = 'Deep_Input')\n",
        "\n",
        "# Define deep path\n",
        "hidden_1 = Dense(30,activation = 'relu')(input_b)\n",
        "hidden_2 = Dense(30,activation = 'relu')(hidden_1)\n",
        "\n",
        "# Define merged both\n",
        "concat = concatenate([input_a,hidden_2])\n",
        "output = Dense(1,name = 'Output')(concat)\n",
        "\n",
        "# Define another output for the deep path\n",
        "aux_output = Dense(1,name = 'aux_output')(hidden_2)\n",
        "\n",
        "# Build the model\n",
        "model = Model(inputs = [input_a,input_b],outputs = [output,aux_output])\n",
        "\n",
        "# Visualize the architecture\n",
        "plot_model(model)"
      ],
      "metadata": {
        "colab": {
          "base_uri": "https://localhost:8080/",
          "height": 466
        },
        "id": "ZX2IQCZmC9JS",
        "outputId": "2e076ebb-a287-4023-c797-6dccd23cdaf5"
      },
      "execution_count": 4,
      "outputs": [
        {
          "output_type": "execute_result",
          "data": {
            "image/png": "[encoded data removed]",
            "text/plain": [
              "<IPython.core.display.Image object>"
            ]
          },
          "metadata": {},
          "execution_count": 4
        }
      ]
    },
    {
      "cell_type": "markdown",
      "source": [
        "# Implement as a Class"
      ],
      "metadata": {
        "id": "smVsLesJEpP8"
      }
    },
    {
      "cell_type": "code",
      "source": [
        "# Inherit from the model base class\n",
        "class WideAndDeepModel(Model):\n",
        "  def __init__(self,units = 30,activation = 'relu',**kwargs):\n",
        "    super().__init__(**kwargs)\n",
        "    self.hidden1 = Dense(units,activation = activation)\n",
        "    self.hidden2 = Dense(units,activation = activation)\n",
        "    self.main_output = Dense(1)\n",
        "    self.aux_output = Dense(1)\n",
        "\n",
        "  def call(self,inputs):\n",
        "    input_A, input_B = inputs\n",
        "    hidden1 = self.hidden1(input_B)\n",
        "    hidden2 = self.hidden(hidden1)\n",
        "    concat = concatenate([input_A,hidden2])\n",
        "    main_output = self.main_output(concat)\n",
        "    aux_output = self.aux_output(hidden2)\n",
        "\n",
        "    return main_output,aux_output"
      ],
      "metadata": {
        "id": "ksDgwitdEem2"
      },
      "execution_count": 6,
      "outputs": []
    },
    {
      "cell_type": "code",
      "source": [
        "# Create an instance of the model\n",
        "model = WideAndDeepModel()"
      ],
      "metadata": {
        "id": "A-I6mvcFGZGs"
      },
      "execution_count": 11,
      "outputs": []
    }
  ]
}