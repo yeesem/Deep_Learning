{
  "nbformat": 4,
  "nbformat_minor": 0,
  "metadata": {
    "colab": {
      "provenance": [],
      "authorship_tag": "ABX9TyOsO+xv5uPefSlUdTdmPf9w",
      "include_colab_link": true
    },
    "kernelspec": {
      "name": "python3",
      "display_name": "Python 3"
    },
    "language_info": {
      "name": "python"
    }
  },
  "cells": [
    {
      "cell_type": "markdown",
      "metadata": {
        "id": "view-in-github",
        "colab_type": "text"
      },
      "source": [
        "<a href=\"https://colab.research.google.com/github/yeesem/Deep_Learning/blob/main/Logistics_Regression_Cat_Classification.ipynb\" target=\"_parent\"><img src=\"https://colab.research.google.com/assets/colab-badge.svg\" alt=\"Open In Colab\"/></a>"
      ]
    },
    {
      "cell_type": "code",
      "execution_count": null,
      "metadata": {
        "colab": {
          "base_uri": "https://localhost:8080/"
        },
        "id": "ftEv3SZc7Gws",
        "outputId": "db05b43c-eef2-463b-8640-a7dc511af155"
      },
      "outputs": [
        {
          "output_type": "stream",
          "name": "stdout",
          "text": [
            "[[1.]\n",
            " [3.]]\n",
            "[[1. 2.]]\n",
            "[[7.]]\n"
          ]
        }
      ],
      "source": [
        "import numpy as np\n",
        "w =  np.array([[1.],\n",
        "              [2]])\n",
        "X = np.array([[1., -2., -1.],\n",
        "              [3., 0.5, -3.2]])\n",
        "print(X)\n",
        "print(w.T)\n",
        "print(np.dot(w.T,X))"
      ]
    },
    {
      "cell_type": "code",
      "source": [
        "import numpy as np\n",
        "\n",
        "# Create an array with a single-dimensional entry\n",
        "arr = np.array([[[1, 2, 3]]])\n",
        "\n",
        "print(\"Original array:\")\n",
        "print(arr)\n",
        "print(\"Shape of the original array:\", arr.shape)\n",
        "\n",
        "# Use np.squeeze() to remove the single-dimensional entry\n",
        "arr_squeezed = np.squeeze(arr)\n",
        "\n",
        "print(\"\\nArray after squeezing:\")\n",
        "print(arr_squeezed)\n",
        "print(\"Shape of the squeezed array:\", arr_squeezed.shape)"
      ],
      "metadata": {
        "colab": {
          "base_uri": "https://localhost:8080/"
        },
        "id": "KkPsW9Fo9w41",
        "outputId": "4fc66591-87ce-477c-cc3c-4586057f8b30"
      },
      "execution_count": null,
      "outputs": [
        {
          "output_type": "stream",
          "name": "stdout",
          "text": [
            "Original array:\n",
            "[[[1 2 3]]]\n",
            "Shape of the original array: (1, 1, 3)\n",
            "\n",
            "Array after squeezing:\n",
            "[1 2 3]\n",
            "Shape of the squeezed array: (3,)\n"
          ]
        }
      ]
    },
    {
      "cell_type": "code",
      "source": [
        "arr = np.array([[[1], [2], [3]]])\n",
        "arr_squeezed_axis1 = np.squeeze(arr)\n",
        "\n",
        "print(\"\\nArray after squeezing along axis 1:\")\n",
        "print(arr_squeezed_axis1)\n",
        "print(\"Shape of the squeezed array along axis 1:\", arr_squeezed_axis1.shape)\n"
      ],
      "metadata": {
        "colab": {
          "base_uri": "https://localhost:8080/"
        },
        "id": "IM-fxhHJ-Bnv",
        "outputId": "9fbed1db-9048-49f0-8276-d2bb69a9cc71"
      },
      "execution_count": null,
      "outputs": [
        {
          "output_type": "stream",
          "name": "stdout",
          "text": [
            "\n",
            "Array after squeezing along axis 1:\n",
            "[1 2 3]\n",
            "Shape of the squeezed array along axis 1: (3,)\n"
          ]
        }
      ]
    },
    {
      "cell_type": "markdown",
      "source": [
        "# **Logistics Regression**"
      ],
      "metadata": {
        "id": "jCinhss2HTuA"
      }
    },
    {
      "cell_type": "code",
      "source": [
        "def load_dataset():\n",
        "    with h5py.File('train_catvnoncat.h5', \"r\") as train_dataset:\n",
        "        train_set_x_orig = np.array(train_dataset[\"train_set_x\"][:])\n",
        "        train_set_y_orig = np.array(train_dataset[\"train_set_y\"][:])\n",
        "\n",
        "    with h5py.File('test_catvnoncat.h5', \"r\") as test_dataset:\n",
        "        test_set_x_orig = np.array(test_dataset[\"test_set_x\"][:])\n",
        "        test_set_y_orig = np.array(test_dataset[\"test_set_y\"][:])\n",
        "        classes = np.array(test_dataset[\"list_classes\"][:])\n",
        "\n",
        "    #Reshape the Y_Train and Y_Test from 1D Array to 2D array\n",
        "    train_set_y_orig = train_set_y_orig.reshape((1, train_set_y_orig.shape[0]))\n",
        "    test_set_y_orig = test_set_y_orig.reshape((1, test_set_y_orig.shape[0]))\n",
        "\n",
        "    return train_set_x_orig, train_set_y_orig, test_set_x_orig, test_set_y_orig, classes"
      ],
      "metadata": {
        "id": "s_1GeYRVIGBu"
      },
      "execution_count": null,
      "outputs": []
    },
    {
      "cell_type": "code",
      "source": [
        "import numpy as np\n",
        "import copy\n",
        "import matplotlib.pyplot as plt\n",
        "import scipy\n",
        "import h5py\n",
        "from PIL import Image\n",
        "from scipy import ndimage\n",
        "\n",
        "%matplotlib inline\n",
        "%load_ext autoreload\n",
        "%autoreload 2"
      ],
      "metadata": {
        "colab": {
          "base_uri": "https://localhost:8080/"
        },
        "id": "9tb-ffeE-F4D",
        "outputId": "cd252b07-9148-4731-e665-698c6f818978"
      },
      "execution_count": null,
      "outputs": [
        {
          "output_type": "stream",
          "name": "stdout",
          "text": [
            "The autoreload extension is already loaded. To reload it, use:\n",
            "  %reload_ext autoreload\n"
          ]
        }
      ]
    },
    {
      "cell_type": "code",
      "source": [
        "train_set_x_orig, train_set_y, test_set_x_orig, test_set_y, classes = load_dataset()"
      ],
      "metadata": {
        "id": "NkHf2E6uIgns"
      },
      "execution_count": null,
      "outputs": []
    },
    {
      "cell_type": "code",
      "source": [
        "classes"
      ],
      "metadata": {
        "colab": {
          "base_uri": "https://localhost:8080/"
        },
        "id": "EAHa6OxiZ07i",
        "outputId": "e00e8836-77dc-4d94-d13c-11bb68a51e70"
      },
      "execution_count": null,
      "outputs": [
        {
          "output_type": "execute_result",
          "data": {
            "text/plain": [
              "array([b'non-cat', b'cat'], dtype='|S7')"
            ]
          },
          "metadata": {},
          "execution_count": 73
        }
      ]
    },
    {
      "cell_type": "code",
      "source": [
        "len(classes)"
      ],
      "metadata": {
        "colab": {
          "base_uri": "https://localhost:8080/"
        },
        "id": "sJCR4qVxZ_65",
        "outputId": "bfa73149-a9b8-403a-a67f-ef37af80a2e9"
      },
      "execution_count": null,
      "outputs": [
        {
          "output_type": "execute_result",
          "data": {
            "text/plain": [
              "2"
            ]
          },
          "metadata": {},
          "execution_count": 74
        }
      ]
    },
    {
      "cell_type": "code",
      "source": [
        "#Decode the binary file\n",
        "classes[np.squeeze(test_set_y[:, 25])].decode(\"utf-8\")"
      ],
      "metadata": {
        "colab": {
          "base_uri": "https://localhost:8080/",
          "height": 35
        },
        "id": "oHQZvTyXaH6E",
        "outputId": "bba3795e-c473-4259-87dd-4bb32f581e34"
      },
      "execution_count": null,
      "outputs": [
        {
          "output_type": "execute_result",
          "data": {
            "text/plain": [
              "'cat'"
            ],
            "application/vnd.google.colaboratory.intrinsic+json": {
              "type": "string"
            }
          },
          "metadata": {},
          "execution_count": 78
        }
      ]
    },
    {
      "cell_type": "code",
      "source": [
        "index = 25\n",
        "plt.imshow(test_set_x_orig[index])\n",
        "print (\"y = \" + str(test_set_y[:,index]) + \", it's a '\" + classes[np.squeeze(test_set_y[:, index])].decode(\"utf-8\") +  \"' picture.\")"
      ],
      "metadata": {
        "colab": {
          "base_uri": "https://localhost:8080/",
          "height": 449
        },
        "id": "8pMiJ2UXIsu0",
        "outputId": "298267da-40bd-45c5-8967-0729dbf7145e"
      },
      "execution_count": null,
      "outputs": [
        {
          "output_type": "stream",
          "name": "stdout",
          "text": [
            "y = [1], it's a 'cat' picture.\n"
          ]
        },
        {
          "output_type": "display_data",
          "data": {
            "text/plain": [
              "<Figure size 640x480 with 1 Axes>"
            ],
            "image/png": "[encoded data removed]"
          },
          "metadata": {}
        }
      ]
    },
    {
      "cell_type": "code",
      "source": [
        "#Number of training set\n",
        "m_train = train_set_x_orig.shape[0]\n",
        "#Number of testing set\n",
        "m_test = test_set_x_orig.shape[0]\n",
        "#number of pixel\n",
        "num_px = train_set_x_orig.shape[1]\n",
        "\n",
        "\n",
        "print (\"Number of training examples: m_train = \" + str(m_train))\n",
        "print (\"Number of testing examples: m_test = \" + str(m_test))\n",
        "print (\"Height/Width of each image: num_px = \" + str(num_px))\n",
        "print (\"Each image is of size: (\" + str(num_px) + \", \" + str(num_px) + \", 3)\")\n",
        "print (\"train_set_x shape: \" + str(train_set_x_orig.shape))\n",
        "print (\"train_set_y shape: \" + str(train_set_y.shape))\n",
        "print (\"test_set_x shape: \" + str(test_set_x_orig.shape))\n",
        "print (\"test_set_y shape: \" + str(test_set_y.shape))"
      ],
      "metadata": {
        "colab": {
          "base_uri": "https://localhost:8080/"
        },
        "id": "zwWV47HuKH5v",
        "outputId": "87a28b04-2acf-4e52-aad2-596f2d030012"
      },
      "execution_count": null,
      "outputs": [
        {
          "output_type": "stream",
          "name": "stdout",
          "text": [
            "Number of training examples: m_train = 209\n",
            "Number of testing examples: m_test = 50\n",
            "Height/Width of each image: num_px = 64\n",
            "Each image is of size: (64, 64, 3)\n",
            "train_set_x shape: (209, 64, 64, 3)\n",
            "train_set_y shape: (1, 209)\n",
            "test_set_x shape: (50, 64, 64, 3)\n",
            "test_set_y shape: (1, 50)\n"
          ]
        }
      ]
    },
    {
      "cell_type": "code",
      "source": [
        "train_set_x_flatten = train_set_x_orig.reshape(train_set_x_orig.shape[0],-1).T\n",
        "test_set_x_flatten = test_set_x_orig.reshape(test_set_x_orig.shape[0],-1).T\n",
        "\n",
        "print (\"train_set_x_flatten shape: \" + str(train_set_x_flatten.shape))\n",
        "print (\"train_set_y shape: \" + str(train_set_y.shape))\n",
        "print (\"test_set_x_flatten shape: \" + str(test_set_x_flatten.shape))\n",
        "print (\"test_set_y shape: \" + str(test_set_y.shape))"
      ],
      "metadata": {
        "colab": {
          "base_uri": "https://localhost:8080/"
        },
        "id": "BNu6Xy9mKM1t",
        "outputId": "4a6932be-29b5-45da-d83d-fdb895fe9fb3"
      },
      "execution_count": null,
      "outputs": [
        {
          "output_type": "stream",
          "name": "stdout",
          "text": [
            "train_set_x_flatten shape: (12288, 209)\n",
            "train_set_y shape: (1, 209)\n",
            "test_set_x_flatten shape: (12288, 50)\n",
            "test_set_y shape: (1, 50)\n"
          ]
        }
      ]
    },
    {
      "cell_type": "code",
      "source": [
        "# standardize our dataset.\n",
        "train_set_x = train_set_x_flatten / 255.\n",
        "test_set_x = test_set_x_flatten / 255."
      ],
      "metadata": {
        "id": "xqDJinDDKS8H"
      },
      "execution_count": null,
      "outputs": []
    },
    {
      "cell_type": "code",
      "source": [
        "def sigmoid(z):\n",
        "\n",
        "    s = 1 / (1 + np.exp(-z))\n",
        "\n",
        "    return s"
      ],
      "metadata": {
        "id": "RbN5IkITKXGk"
      },
      "execution_count": null,
      "outputs": []
    },
    {
      "cell_type": "code",
      "source": [
        "def initialize_with_zeros(dim):\n",
        "\n",
        "    w = np.zeros((dim,1))\n",
        "    b = 0.0\n",
        "\n",
        "    return w, b"
      ],
      "metadata": {
        "id": "D--QUuKgKdQc"
      },
      "execution_count": null,
      "outputs": []
    },
    {
      "cell_type": "code",
      "source": [
        "dim = 2\n",
        "w, b = initialize_with_zeros(dim)\n",
        "\n",
        "print (\"w = \" + str(w))\n",
        "print (\"b = \" + str(b))"
      ],
      "metadata": {
        "colab": {
          "base_uri": "https://localhost:8080/"
        },
        "id": "ezf9j4y5Ki2Q",
        "outputId": "1c197a35-e30e-487d-c2a5-bb9cbd128d8e"
      },
      "execution_count": null,
      "outputs": [
        {
          "output_type": "stream",
          "name": "stdout",
          "text": [
            "w = [[0.]\n",
            " [0.]]\n",
            "b = 0.0\n"
          ]
        }
      ]
    },
    {
      "cell_type": "code",
      "source": [
        "def propagate(w, b, X, Y):\n",
        "\n",
        "    m = X.shape[1]\n",
        "\n",
        "    A = sigmoid(np.dot(w.T,X) + b)\n",
        "    cost = (-1/m) * np.sum(Y * np.log(A) + (1 - Y) * np.log(1 - A))\n",
        "\n",
        "    dw = (1/m) * np.dot(X,(A - Y).T)\n",
        "    db = (1/m) * np.sum(A - Y)\n",
        "\n",
        "    cost = np.squeeze(np.array(cost))\n",
        "\n",
        "\n",
        "    grads = {\"dw\": dw,\n",
        "             \"db\": db}\n",
        "\n",
        "    return grads, cost"
      ],
      "metadata": {
        "id": "eDrJT_jpKtna"
      },
      "execution_count": null,
      "outputs": []
    },
    {
      "cell_type": "code",
      "source": [
        "# Creating a nested list\n",
        "original_list = [[1, 2, 3], [4, 5, 6]]\n",
        "\n",
        "# Creating a deep copy of the list\n",
        "copied_list = copy.deepcopy(original_list)\n",
        "\n",
        "# Modifying the copied list does not affect the original list\n",
        "copied_list[0][0] = 99\n",
        "\n",
        "print(\"Original List:\", original_list)\n",
        "print(\"Copied List:\", copied_list)\n",
        "\n",
        "#modifying the nested list within the copied_list\n",
        "#does not affect the original_list."
      ],
      "metadata": {
        "colab": {
          "base_uri": "https://localhost:8080/"
        },
        "id": "M88BZJqxd7Ad",
        "outputId": "36e578db-ee3c-4129-d1f5-a02c9fd974cd"
      },
      "execution_count": null,
      "outputs": [
        {
          "output_type": "stream",
          "name": "stdout",
          "text": [
            "Original List: [[1, 2, 3], [4, 5, 6]]\n",
            "Copied List: [[99, 2, 3], [4, 5, 6]]\n"
          ]
        }
      ]
    },
    {
      "cell_type": "code",
      "source": [
        "def optimize(w, b, X, Y, num_iterations=100, learning_rate=0.009, print_cost=False):\n",
        "\n",
        "    w = copy.deepcopy(w)\n",
        "    b = copy.deepcopy(b)\n",
        "\n",
        "    costs = []\n",
        "\n",
        "    for i in range(num_iterations):\n",
        "\n",
        "        grads,cost = propagate(w, b, X, Y)\n",
        "\n",
        "        dw = grads[\"dw\"]\n",
        "        db = grads[\"db\"]\n",
        "\n",
        "        w = w - learning_rate*dw\n",
        "        b = b - learning_rate*db\n",
        "\n",
        "        # Record the costs\n",
        "        if i % 100 == 0:\n",
        "            costs.append(cost)\n",
        "\n",
        "            # Print the cost every 100 training iterations\n",
        "            if print_cost:\n",
        "                print (\"Cost after iteration %i: %f\" %(i, cost))\n",
        "\n",
        "    params = {\"w\": w,\n",
        "              \"b\": b}\n",
        "\n",
        "    grads = {\"dw\": dw,\n",
        "             \"db\": db}\n",
        "\n",
        "    return params, grads, costs"
      ],
      "metadata": {
        "id": "ajwXyt-QK0ra"
      },
      "execution_count": null,
      "outputs": []
    },
    {
      "cell_type": "code",
      "source": [
        "def predict(w, b, X):\n",
        "\n",
        "    #number of dataset\n",
        "    m = X.shape[1]\n",
        "    Y_prediction = np.zeros((1, m))\n",
        "    w = w.reshape(X.shape[0], 1)\n",
        "\n",
        "    A = sigmoid(np.dot(w.T,X) + b)\n",
        "\n",
        "    for i in range(A.shape[1]):\n",
        "\n",
        "        if A[0,i] >= 0.5:\n",
        "            Y_prediction[0,i] = True\n",
        "        else:\n",
        "            Y_prediction[0,i] = False\n",
        "\n",
        "    return Y_prediction"
      ],
      "metadata": {
        "id": "c-PmBGg4K_6T"
      },
      "execution_count": null,
      "outputs": []
    },
    {
      "cell_type": "code",
      "source": [
        "def model(X_train, Y_train, X_test, Y_test, num_iterations=2000, learning_rate=0.5, print_cost=False):\n",
        "\n",
        "    #w,b = initialize_with_zeros(X_train.shape[0])\n",
        "    w,b = np.zeros((X_train.shape[0],1)),0\n",
        "    params,grads,costs = optimize(w, b, X_train,Y_train, num_iterations, learning_rate, print_cost=False)\n",
        "    w = params[\"w\"]\n",
        "    b = params[\"b\"]\n",
        "    Y_prediction_test  = predict(w, b, X_test)\n",
        "    Y_prediction_train = predict(w, b, X_train)\n",
        "\n",
        "    # Print train/test Errors\n",
        "    if print_cost:\n",
        "        print(\"train accuracy: {} %\".format(100 - np.mean(np.abs(Y_prediction_train - Y_train)) * 100))\n",
        "        print(\"test accuracy: {} %\".format(100 - np.mean(np.abs(Y_prediction_test - Y_test)) * 100))\n",
        "\n",
        "\n",
        "    d = {\"costs\": costs,\n",
        "         \"Y_prediction_test\": Y_prediction_test,\n",
        "         \"Y_prediction_train\" : Y_prediction_train,\n",
        "         \"w\" : w,\n",
        "         \"b\" : b,\n",
        "         \"learning_rate\" : learning_rate,\n",
        "         \"num_iterations\": num_iterations}\n",
        "\n",
        "    return d"
      ],
      "metadata": {
        "id": "mZWaGjTdLPic"
      },
      "execution_count": null,
      "outputs": []
    },
    {
      "cell_type": "code",
      "source": [
        "logistic_regression_model = model(train_set_x, train_set_y, test_set_x, test_set_y, num_iterations=2000, learning_rate=0.005, print_cost=True)"
      ],
      "metadata": {
        "colab": {
          "base_uri": "https://localhost:8080/"
        },
        "id": "XhggiLEvLDz6",
        "outputId": "bb9f8346-76d3-491f-cf6d-8af8284866af"
      },
      "execution_count": null,
      "outputs": [
        {
          "output_type": "stream",
          "name": "stdout",
          "text": [
            "train accuracy: 99.04306220095694 %\n",
            "test accuracy: 70.0 %\n"
          ]
        }
      ]
    },
    {
      "cell_type": "code",
      "source": [
        "index = 1\n",
        "plt.imshow(test_set_x[:, index].reshape((num_px, num_px, 3)))\n",
        "print (\"y = \" + str(test_set_y[0,index]) + \", you predicted that it is a \\\"\" + classes[int(logistic_regression_model['Y_prediction_test'][0,index])].decode(\"utf-8\") +  \"\\\" picture.\")"
      ],
      "metadata": {
        "colab": {
          "base_uri": "https://localhost:8080/",
          "height": 449
        },
        "id": "4-FjT9KSLZs5",
        "outputId": "3b5ccf8a-ba29-4026-88c9-c5814bb66ad5"
      },
      "execution_count": null,
      "outputs": [
        {
          "output_type": "stream",
          "name": "stdout",
          "text": [
            "y = 1, you predicted that it is a \"cat\" picture.\n"
          ]
        },
        {
          "output_type": "display_data",
          "data": {
            "text/plain": [
              "<Figure size 640x480 with 1 Axes>"
            ],
            "image/png": "[encoded data removed]"
          },
          "metadata": {}
        }
      ]
    },
    {
      "cell_type": "code",
      "source": [
        "# Plot learning curve (with costs)\n",
        "costs = np.squeeze(logistic_regression_model['costs'])\n",
        "plt.plot(costs)\n",
        "plt.ylabel('cost')\n",
        "plt.xlabel('iterations (per hundreds)')\n",
        "plt.title(\"Learning rate =\" + str(logistic_regression_model[\"learning_rate\"]))\n",
        "plt.show()"
      ],
      "metadata": {
        "colab": {
          "base_uri": "https://localhost:8080/",
          "height": 472
        },
        "id": "VmBNFBHnLeeF",
        "outputId": "b927c89f-0764-4acc-e7b4-26dd10400ffe"
      },
      "execution_count": null,
      "outputs": [
        {
          "output_type": "display_data",
          "data": {
            "text/plain": [
              "<Figure size 640x480 with 1 Axes>"
            ],
            "image/png": "[encoded data removed]"
          },
          "metadata": {}
        }
      ]
    },
    {
      "cell_type": "code",
      "source": [
        "learning_rates = [0.01, 0.001, 0.0001]\n",
        "models = {}\n",
        "\n",
        "for lr in learning_rates:\n",
        "    print (\"Training a model with learning rate: \" + str(lr))\n",
        "    models[str(lr)] = model(train_set_x, train_set_y, test_set_x, test_set_y, num_iterations=1500, learning_rate=lr, print_cost=False)\n",
        "    print ('\\n' + \"-------------------------------------------------------\" + '\\n')\n",
        "\n",
        "for lr in learning_rates:\n",
        "    plt.plot(np.squeeze(models[str(lr)][\"costs\"]), label=str(models[str(lr)][\"learning_rate\"]))\n",
        "\n",
        "plt.ylabel('cost')\n",
        "plt.xlabel('iterations (hundreds)')\n",
        "\n",
        "legend = plt.legend(loc='upper center', shadow=True)\n",
        "frame = legend.get_frame()\n",
        "frame.set_facecolor('0.90')\n",
        "plt.show()"
      ],
      "metadata": {
        "colab": {
          "base_uri": "https://localhost:8080/",
          "height": 657
        },
        "id": "poH728B0Lgut",
        "outputId": "f70b3fb3-c919-4d3f-f798-b9e67c70099c"
      },
      "execution_count": null,
      "outputs": [
        {
          "output_type": "stream",
          "name": "stdout",
          "text": [
            "Training a model with learning rate: 0.01\n",
            "\n",
            "-------------------------------------------------------\n",
            "\n",
            "Training a model with learning rate: 0.001\n",
            "\n",
            "-------------------------------------------------------\n",
            "\n",
            "Training a model with learning rate: 0.0001\n",
            "\n",
            "-------------------------------------------------------\n",
            "\n"
          ]
        },
        {
          "output_type": "display_data",
          "data": {
            "text/plain": [
              "<Figure size 640x480 with 1 Axes>"
            ],
            "image/png": "[encoded data removed]"
          },
          "metadata": {}
        }
      ]
    },
    {
      "cell_type": "code",
      "source": [
        "# change this to the name of your image file\n",
        "my_image = \"my_image.jpg\"\n",
        "\n",
        "# We preprocess the image to fit your algorithm.\n",
        "fname = \"images/\" + my_image\n",
        "image = np.array(Image.open(fname).resize((num_px, num_px)))\n",
        "plt.imshow(image)\n",
        "image = image / 255.\n",
        "image = image.reshape((1, num_px * num_px * 3)).T\n",
        "my_predicted_image = predict(logistic_regression_model[\"w\"], logistic_regression_model[\"b\"], image)\n",
        "\n",
        "print(\"y = \" + str(np.squeeze(my_predicted_image)) + \", your algorithm predicts a \\\"\" + classes[int(np.squeeze(my_predicted_image)),].decode(\"utf-8\") +  \"\\\" picture.\")"
      ],
      "metadata": {
        "id": "1PGRRje0LjUf"
      },
      "execution_count": null,
      "outputs": []
    }
  ]
}