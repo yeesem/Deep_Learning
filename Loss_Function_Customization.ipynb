{
  "nbformat": 4,
  "nbformat_minor": 0,
  "metadata": {
    "colab": {
      "provenance": [],
      "authorship_tag": "ABX9TyN1PvKt+9WeFQnDLR4jasse",
      "include_colab_link": true
    },
    "kernelspec": {
      "name": "python3",
      "display_name": "Python 3"
    },
    "language_info": {
      "name": "python"
    }
  },
  "cells": [
    {
      "cell_type": "markdown",
      "metadata": {
        "id": "view-in-github",
        "colab_type": "text"
      },
      "source": [
        "<a href=\"https://colab.research.google.com/github/yeesem/Deep_Learning/blob/main/Loss_Function_Customization.ipynb\" target=\"_parent\"><img src=\"https://colab.research.google.com/assets/colab-badge.svg\" alt=\"Open In Colab\"/></a>"
      ]
    },
    {
      "cell_type": "code",
      "execution_count": 1,
      "metadata": {
        "id": "GThia5CMMUWa"
      },
      "outputs": [],
      "source": [
        "import tensorflow as tf\n",
        "import numpy as np\n",
        "from tensorflow import keras"
      ]
    },
    {
      "cell_type": "markdown",
      "source": [
        "# Data Preparation"
      ],
      "metadata": {
        "id": "hcvwAGzaM1GB"
      }
    },
    {
      "cell_type": "code",
      "source": [
        "# Inputs\n",
        "xs = np.array([-1.0,  0.0, 1.0, 2.0, 3.0, 4.0],dtype = 'float')\n",
        "\n",
        "# Labels\n",
        "ys = np.array([-3.0, -1.0, 1.0, 3.0, 5.0, 7.0],dtype = 'float')"
      ],
      "metadata": {
        "id": "Ii4wGvLiM0cI"
      },
      "execution_count": 2,
      "outputs": []
    },
    {
      "cell_type": "markdown",
      "source": [
        "# Training the model"
      ],
      "metadata": {
        "id": "eQT2WEevN4Rt"
      }
    },
    {
      "cell_type": "code",
      "source": [
        "model = tf.keras.Sequential([\n",
        "    tf.keras.layers.Dense(units = 1,input_shape = [1])\n",
        "])\n",
        "model.compile(\n",
        "    optimizer = 'sgd',\n",
        "    loss = 'mean_squared_error'\n",
        ")\n",
        "model.fit(\n",
        "    xs,\n",
        "    ys,\n",
        "    epochs = 500,\n",
        "    verbose = 0\n",
        ")\n",
        "print(model.predict([10]))"
      ],
      "metadata": {
        "colab": {
          "base_uri": "https://localhost:8080/"
        },
        "id": "DBoZiRMeN3hu",
        "outputId": "1afc765d-8684-4f12-eefa-a97063759f44"
      },
      "execution_count": 6,
      "outputs": [
        {
          "output_type": "stream",
          "name": "stdout",
          "text": [
            "1/1 [==============================] - 0s 97ms/step\n",
            "[[18.979074]]\n"
          ]
        }
      ]
    },
    {
      "cell_type": "markdown",
      "source": [
        "# Custom Huber Loss"
      ],
      "metadata": {
        "id": "oT33RVRHObpD"
      }
    },
    {
      "cell_type": "code",
      "source": [
        "def my_huber_loss(y_true,y_pred):\n",
        "  threshold = 1\n",
        "  error = y_true - y_pred\n",
        "  is_small_error = tf.abs(error) <= threshold\n",
        "  small_error_loss = tf.square(error) / 2\n",
        "  big_error_loss = threshold * (tf.abs(error) - (0.5 * threshold))\n",
        "\n",
        "  return tf.where(is_small_error,small_error_loss,big_error_loss)"
      ],
      "metadata": {
        "id": "TkaDwP4DOJ2K"
      },
      "execution_count": 7,
      "outputs": []
    },
    {
      "cell_type": "code",
      "source": [
        "model = tf.keras.models.Sequential([\n",
        "    tf.keras.layers.Dense(units = 1,input_shape = [1])\n",
        "])\n",
        "model.compile(\n",
        "    optimizer = 'sgd',\n",
        "    loss = my_huber_loss\n",
        ")\n",
        "model.fit(\n",
        "    xs,\n",
        "    ys,\n",
        "    epochs = 500,\n",
        "    verbose = 0\n",
        ")\n",
        "model.predict([10])"
      ],
      "metadata": {
        "colab": {
          "base_uri": "https://localhost:8080/"
        },
        "id": "UMmGDjF4O7A9",
        "outputId": "d0b04112-28a7-4a5b-d9c7-9891df52d030"
      },
      "execution_count": 9,
      "outputs": [
        {
          "output_type": "stream",
          "name": "stdout",
          "text": [
            "1/1 [==============================] - 0s 68ms/step\n"
          ]
        },
        {
          "output_type": "execute_result",
          "data": {
            "text/plain": [
              "array([[18.56818]], dtype=float32)"
            ]
          },
          "metadata": {},
          "execution_count": 9
        }
      ]
    },
    {
      "cell_type": "markdown",
      "source": [
        "# Implement Custom Loss as a Class"
      ],
      "metadata": {
        "id": "oUXJndjoQY1c"
      }
    },
    {
      "cell_type": "code",
      "source": [
        "from tensorflow.keras.losses import Loss\n",
        "\n",
        "class MyHuberLoss(Loss):\n",
        "\n",
        "  # Initialize instance attributes\n",
        "  def __init__(self,threshold = 1):\n",
        "    super().__init__()\n",
        "    self.threshold = threshold\n",
        "\n",
        "  # Compute loss\n",
        "  def call(self,y_true,y_pred):\n",
        "    error = y_true - y_pred\n",
        "    is_small_error = tf.abs(error) <= self.threshold\n",
        "    small_error_loss = tf.square(error) / 2\n",
        "    big_error_loss = self.threshold * (tf.abs(error) - (0.5 * self.threshold))\n",
        "    return tf.where(is_small_error,small_error_loss,big_error_loss)"
      ],
      "metadata": {
        "id": "LgAoOJJqQb5u"
      },
      "execution_count": 11,
      "outputs": []
    },
    {
      "cell_type": "code",
      "source": [
        "model = tf.keras.models.Sequential([\n",
        "    tf.keras.layers.Dense(units = 1,input_shape = [1])\n",
        "])\n",
        "model.compile(\n",
        "    optimizer = 'sgd',\n",
        "    loss = MyHuberLoss(threshold = 1.02)\n",
        ")\n",
        "model.fit(\n",
        "    xs,\n",
        "    ys,\n",
        "    epochs = 500,\n",
        "    verbose = 0\n",
        ")\n",
        "print(model.predict([10.0]))"
      ],
      "metadata": {
        "colab": {
          "base_uri": "https://localhost:8080/"
        },
        "id": "TUQ_EPXxSQzW",
        "outputId": "3a6cf3bc-18d1-4b1d-ab7b-80ffe840254b"
      },
      "execution_count": 15,
      "outputs": [
        {
          "output_type": "stream",
          "name": "stdout",
          "text": [
            "1/1 [==============================] - 0s 63ms/step\n",
            "[[18.691422]]\n"
          ]
        }
      ]
    }
  ]
}