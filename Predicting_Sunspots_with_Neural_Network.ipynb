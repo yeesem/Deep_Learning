{
  "nbformat": 4,
  "nbformat_minor": 0,
  "metadata": {
    "colab": {
      "provenance": [],
      "authorship_tag": "ABX9TyOwpzfTrHUDmGdrsalRibes",
      "include_colab_link": true
    },
    "kernelspec": {
      "name": "python3",
      "display_name": "Python 3"
    },
    "language_info": {
      "name": "python"
    }
  },
  "cells": [
    {
      "cell_type": "markdown",
      "metadata": {
        "id": "view-in-github",
        "colab_type": "text"
      },
      "source": [
        "<a href=\"https://colab.research.google.com/github/yeesem/Deep_Learning/blob/main/Predicting_Sunspots_with_Neural_Network.ipynb\" target=\"_parent\"><img src=\"https://colab.research.google.com/assets/colab-badge.svg\" alt=\"Open In Colab\"/></a>"
      ]
    },
    {
      "cell_type": "code",
      "execution_count": 23,
      "metadata": {
        "id": "Wx_UjxPFz7mX"
      },
      "outputs": [],
      "source": [
        "import tensorflow as tf\n",
        "import numpy as np\n",
        "import matplotlib.pyplot as plt\n",
        "import csv"
      ]
    },
    {
      "cell_type": "code",
      "source": [
        "def plot_series(x, y, format=\"-\", start=0, end=None,\n",
        "                title=None, xlabel=None, ylabel=None, legend=None ):\n",
        "    \"\"\"\n",
        "    Visualizes time series data\n",
        "\n",
        "    Args:\n",
        "      x (array of int) - contains values for the x-axis\n",
        "      y (array of int or tuple of arrays) - contains the values for the y-axis\n",
        "      format (string) - line style when plotting the graph\n",
        "      start (int) - first time step to plot\n",
        "      end (int) - last time step to plot\n",
        "      title (string) - title of the plot\n",
        "      xlabel (string) - label for the x-axis\n",
        "      ylabel (string) - label for the y-axis\n",
        "      legend (list of strings) - legend for the plot\n",
        "    \"\"\"\n",
        "\n",
        "    # Setup dimensions of the graph figure\n",
        "    plt.figure(figsize=(10, 6))\n",
        "\n",
        "    # Check if there are more than two series to plot\n",
        "    if type(y) is tuple:\n",
        "\n",
        "      # Loop over the y elements\n",
        "      for y_curr in y:\n",
        "\n",
        "        # Plot the x and current y values\n",
        "        plt.plot(x[start:end], y_curr[start:end], format)\n",
        "\n",
        "    else:\n",
        "      # Plot the x and y values\n",
        "      plt.plot(x[start:end], y[start:end], format)\n",
        "\n",
        "    # Label the x-axis\n",
        "    plt.xlabel(xlabel)\n",
        "\n",
        "    # Label the y-axis\n",
        "    plt.ylabel(ylabel)\n",
        "\n",
        "    # Set the legend\n",
        "    if legend:\n",
        "      plt.legend(legend)\n",
        "\n",
        "    # Set the title\n",
        "    plt.title(title)\n",
        "\n",
        "    # Overlay a grid on the graph\n",
        "    plt.grid(True)\n",
        "\n",
        "    # Draw the graph on screen\n",
        "    plt.show()"
      ],
      "metadata": {
        "id": "4JKoCTdC0hMo"
      },
      "execution_count": 24,
      "outputs": []
    },
    {
      "cell_type": "markdown",
      "source": [
        "# Download and Preview the Dataset"
      ],
      "metadata": {
        "id": "sZgdBwck6NIB"
      }
    },
    {
      "cell_type": "code",
      "source": [
        "# Download the Dataset\n",
        "!wget https://storage.googleapis.com/tensorflow-1-public/course4/Sunspots.csv"
      ],
      "metadata": {
        "colab": {
          "base_uri": "https://localhost:8080/"
        },
        "id": "TQyUG6S26LpL",
        "outputId": "a3296c17-1dd6-4fc3-9509-386fc307f7bd"
      },
      "execution_count": 25,
      "outputs": [
        {
          "output_type": "stream",
          "name": "stdout",
          "text": [
            "--2024-04-25 17:05:22--  https://storage.googleapis.com/tensorflow-1-public/course4/Sunspots.csv\n",
            "Resolving storage.googleapis.com (storage.googleapis.com)... 74.125.124.207, 142.250.152.207, 142.250.128.207, ...\n",
            "Connecting to storage.googleapis.com (storage.googleapis.com)|74.125.124.207|:443... connected.\n",
            "HTTP request sent, awaiting response... 200 OK\n",
            "Length: 70827 (69K) [text/csv]\n",
            "Saving to: ‘Sunspots.csv.1’\n",
            "\n",
            "\rSunspots.csv.1        0%[                    ]       0  --.-KB/s               \rSunspots.csv.1      100%[===================>]  69.17K  --.-KB/s    in 0.001s  \n",
            "\n",
            "2024-04-25 17:05:22 (109 MB/s) - ‘Sunspots.csv.1’ saved [70827/70827]\n",
            "\n"
          ]
        }
      ]
    },
    {
      "cell_type": "code",
      "source": [
        "# Initialize lists\n",
        "time_step = []\n",
        "sunspots = []\n",
        "\n",
        "# Open csv file\n",
        "with open('./Sunspots.csv') as csvfile:\n",
        "\n",
        "  # Initialize reader\n",
        "  reader = csv.reader(csvfile,delimiter = ',')\n",
        "\n",
        "  # Skip the first line\n",
        "  next(reader)\n",
        "\n",
        "  # Append row and sunspot number lists\n",
        "  for row in reader:\n",
        "    time_step.append(int(row[0]))\n",
        "    sunspots.append(float(row[2]))\n",
        "\n",
        "# Convert lists to numpy array\n",
        "time = np.array(time_step)\n",
        "series = np.array(sunspots)\n",
        "\n",
        "# Preview the data\n",
        "plot_series(time, series, xlabel='Month', ylabel='Monthly Mean Total Sunspot Number')"
      ],
      "metadata": {
        "colab": {
          "base_uri": "https://localhost:8080/",
          "height": 542
        },
        "id": "aKr0EOoD6SjF",
        "outputId": "e3d98b7b-b9ff-4735-a504-a3ecf7a71898"
      },
      "execution_count": 26,
      "outputs": [
        {
          "output_type": "display_data",
          "data": {
            "text/plain": [
              "<Figure size 1000x600 with 1 Axes>"
            ],
            "image/png": "[encoded data removed]"
          },
          "metadata": {}
        }
      ]
    },
    {
      "cell_type": "markdown",
      "source": [
        "# Split the Dataset"
      ],
      "metadata": {
        "id": "a8IXpXNv9gLl"
      }
    },
    {
      "cell_type": "code",
      "source": [
        "# Define the split time\n",
        "split_time = 3000\n",
        "\n",
        "# Get the train set\n",
        "time_train = time[:split_time]\n",
        "x_train = series[:split_time]\n",
        "\n",
        "# Get the validation set\n",
        "time_valid = time[split_time:]\n",
        "x_valid = series[split_time:]"
      ],
      "metadata": {
        "id": "rn0o9Xpb8j0d"
      },
      "execution_count": 27,
      "outputs": []
    },
    {
      "cell_type": "markdown",
      "source": [
        "# Prepare features and labels"
      ],
      "metadata": {
        "id": "G6CZPgUlCPb1"
      }
    },
    {
      "cell_type": "code",
      "source": [
        "def windowed_dataset(series,window_size,batch_size,shuffle_buffer):\n",
        "  dataset = tf.data.Dataset.from_tensor_slices(series)\n",
        "\n",
        "  dataset = dataset.window(window_size + 1,shift = 1,drop_remainder = True)\n",
        "\n",
        "  dataset = dataset.flat_map(lambda w : w.batch(window_size + 1))\n",
        "\n",
        "  dataset = dataset.map(lambda w : (w[:-1],w[-1]))\n",
        "\n",
        "  dataset = dataset.shuffle(shuffle_buffer)\n",
        "\n",
        "  dataset = dataset.batch(batch_size).prefetch(1)\n",
        "\n",
        "  return dataset"
      ],
      "metadata": {
        "id": "qN2Qo6NqCN4u"
      },
      "execution_count": 28,
      "outputs": []
    },
    {
      "cell_type": "code",
      "source": [
        "# Parameters\n",
        "window_size = 30\n",
        "batch_size = 32\n",
        "shuffle_buffer_size = 1000\n",
        "\n",
        "# Generate the dataset window\n",
        "train_set = windowed_dataset(x_train,window_size,batch_size,shuffle_buffer_size)"
      ],
      "metadata": {
        "id": "vPHCL8iYIJTc"
      },
      "execution_count": 29,
      "outputs": []
    },
    {
      "cell_type": "markdown",
      "source": [
        "# Build the model"
      ],
      "metadata": {
        "id": "ELXZJT5YIh2u"
      }
    },
    {
      "cell_type": "code",
      "source": [
        "# Build the model\n",
        "model = tf.keras.models.Sequential([\n",
        "    tf.keras.layers.Conv1D(\n",
        "        filters = 64,\n",
        "        kernel_size = 3,\n",
        "        activation = 'relu',\n",
        "        padding = 'causal',\n",
        "        strides = 1,\n",
        "        input_shape = [window_size,1]\n",
        "    ),\n",
        "    tf.keras.layers.LSTM(64,return_sequences = True),\n",
        "    tf.keras.layers.LSTM(64),\n",
        "    tf.keras.layers.Dense(30,activation = 'relu'),\n",
        "    tf.keras.layers.Dense(10,activation = 'relu'),\n",
        "    tf.keras.layers.Dense(1),\n",
        "    tf.keras.layers.Lambda(lambda x : x*400)\n",
        "])\n",
        "\n",
        "model.summary()"
      ],
      "metadata": {
        "colab": {
          "base_uri": "https://localhost:8080/"
        },
        "id": "8RMLT6OiIbwI",
        "outputId": "41d87528-98cf-48b0-8bd9-a91b8e60be22"
      },
      "execution_count": 30,
      "outputs": [
        {
          "output_type": "stream",
          "name": "stdout",
          "text": [
            "Model: \"sequential\"\n",
            "_________________________________________________________________\n",
            " Layer (type)                Output Shape              Param #   \n",
            "=================================================================\n",
            " conv1d (Conv1D)             (None, 30, 64)            256       \n",
            "                                                                 \n",
            " lstm (LSTM)                 (None, 30, 64)            33024     \n",
            "                                                                 \n",
            " lstm_1 (LSTM)               (None, 64)                33024     \n",
            "                                                                 \n",
            " dense (Dense)               (None, 30)                1950      \n",
            "                                                                 \n",
            " dense_1 (Dense)             (None, 10)                310       \n",
            "                                                                 \n",
            " dense_2 (Dense)             (None, 1)                 11        \n",
            "                                                                 \n",
            " lambda (Lambda)             (None, 1)                 0         \n",
            "                                                                 \n",
            "=================================================================\n",
            "Total params: 68575 (267.87 KB)\n",
            "Trainable params: 68575 (267.87 KB)\n",
            "Non-trainable params: 0 (0.00 Byte)\n",
            "_________________________________________________________________\n"
          ]
        }
      ]
    },
    {
      "cell_type": "markdown",
      "source": [
        "# Tune the learning rate"
      ],
      "metadata": {
        "id": "kshQjbP8JWXW"
      }
    },
    {
      "cell_type": "code",
      "source": [
        "init_weights = model.get_weights()"
      ],
      "metadata": {
        "id": "-UpAVwL0JOwC"
      },
      "execution_count": 31,
      "outputs": []
    },
    {
      "cell_type": "code",
      "source": [
        "# Set the learning rate scheduler\n",
        "lr_schedule = tf.keras.callbacks.LearningRateScheduler(\n",
        "    lambda epoch : 1e-8 * (10 ** (epoch/20))\n",
        ")\n",
        "\n",
        "# Initialize the optimizer\n",
        "optimizer = tf.keras.optimizers.SGD(momentum = 0.9)\n",
        "\n",
        "# Set the model parameters\n",
        "model.compile(\n",
        "    loss = tf.keras.losses.Huber(),\n",
        "    optimizer = optimizer,\n",
        ")\n",
        "\n",
        "# Train the model\n",
        "history = model.fit(\n",
        "    train_set,\n",
        "    epochs = 100,\n",
        "    callbacks = [lr_schedule]\n",
        ")"
      ],
      "metadata": {
        "colab": {
          "base_uri": "https://localhost:8080/"
        },
        "id": "2gbPHSdkJcIv",
        "outputId": "3a39a718-7989-4bb4-9120-86fb7000b800"
      },
      "execution_count": 32,
      "outputs": [
        {
          "output_type": "stream",
          "name": "stdout",
          "text": [
            "Epoch 1/100\n",
            "93/93 [==============================] - 9s 53ms/step - loss: 60.1340 - lr: 1.0000e-08\n",
            "Epoch 2/100\n",
            "93/93 [==============================] - 4s 41ms/step - loss: 46.3773 - lr: 1.1220e-08\n",
            "Epoch 3/100\n",
            "93/93 [==============================] - 5s 48ms/step - loss: 39.7736 - lr: 1.2589e-08\n",
            "Epoch 4/100\n",
            "93/93 [==============================] - 4s 39ms/step - loss: 34.6698 - lr: 1.4125e-08\n",
            "Epoch 5/100\n",
            "93/93 [==============================] - 5s 49ms/step - loss: 30.4030 - lr: 1.5849e-08\n",
            "Epoch 6/100\n",
            "93/93 [==============================] - 4s 38ms/step - loss: 27.9842 - lr: 1.7783e-08\n",
            "Epoch 7/100\n",
            "93/93 [==============================] - 4s 39ms/step - loss: 26.5754 - lr: 1.9953e-08\n",
            "Epoch 8/100\n",
            "93/93 [==============================] - 5s 48ms/step - loss: 25.4911 - lr: 2.2387e-08\n",
            "Epoch 9/100\n",
            "93/93 [==============================] - 4s 39ms/step - loss: 24.2022 - lr: 2.5119e-08\n",
            "Epoch 10/100\n",
            "93/93 [==============================] - 4s 39ms/step - loss: 23.3085 - lr: 2.8184e-08\n",
            "Epoch 11/100\n",
            "93/93 [==============================] - 5s 49ms/step - loss: 22.6125 - lr: 3.1623e-08\n",
            "Epoch 12/100\n",
            "93/93 [==============================] - 4s 39ms/step - loss: 22.2580 - lr: 3.5481e-08\n",
            "Epoch 13/100\n",
            "93/93 [==============================] - 4s 47ms/step - loss: 21.8755 - lr: 3.9811e-08\n",
            "Epoch 14/100\n",
            "93/93 [==============================] - 4s 43ms/step - loss: 21.8541 - lr: 4.4668e-08\n",
            "Epoch 15/100\n",
            "93/93 [==============================] - 4s 39ms/step - loss: 21.3694 - lr: 5.0119e-08\n",
            "Epoch 16/100\n",
            "93/93 [==============================] - 5s 53ms/step - loss: 21.4370 - lr: 5.6234e-08\n",
            "Epoch 17/100\n",
            "93/93 [==============================] - 4s 40ms/step - loss: 21.0516 - lr: 6.3096e-08\n",
            "Epoch 18/100\n",
            "93/93 [==============================] - 4s 39ms/step - loss: 20.8621 - lr: 7.0795e-08\n",
            "Epoch 19/100\n",
            "93/93 [==============================] - 5s 49ms/step - loss: 20.6850 - lr: 7.9433e-08\n",
            "Epoch 20/100\n",
            "93/93 [==============================] - 4s 40ms/step - loss: 20.5222 - lr: 8.9125e-08\n",
            "Epoch 21/100\n",
            "93/93 [==============================] - 4s 39ms/step - loss: 20.3596 - lr: 1.0000e-07\n",
            "Epoch 22/100\n",
            "93/93 [==============================] - 5s 53ms/step - loss: 20.3471 - lr: 1.1220e-07\n",
            "Epoch 23/100\n",
            "93/93 [==============================] - 4s 39ms/step - loss: 20.0408 - lr: 1.2589e-07\n",
            "Epoch 24/100\n",
            "93/93 [==============================] - 4s 39ms/step - loss: 20.0158 - lr: 1.4125e-07\n",
            "Epoch 25/100\n",
            "93/93 [==============================] - 5s 47ms/step - loss: 19.6873 - lr: 1.5849e-07\n",
            "Epoch 26/100\n",
            "93/93 [==============================] - 4s 39ms/step - loss: 19.4902 - lr: 1.7783e-07\n",
            "Epoch 27/100\n",
            "93/93 [==============================] - 4s 42ms/step - loss: 19.2669 - lr: 1.9953e-07\n",
            "Epoch 28/100\n",
            "93/93 [==============================] - 5s 47ms/step - loss: 19.3144 - lr: 2.2387e-07\n",
            "Epoch 29/100\n",
            "93/93 [==============================] - 4s 39ms/step - loss: 19.3476 - lr: 2.5119e-07\n",
            "Epoch 30/100\n",
            "93/93 [==============================] - 5s 50ms/step - loss: 18.9069 - lr: 2.8184e-07\n",
            "Epoch 31/100\n",
            "93/93 [==============================] - 4s 40ms/step - loss: 18.8398 - lr: 3.1623e-07\n",
            "Epoch 32/100\n",
            "93/93 [==============================] - 4s 39ms/step - loss: 19.0276 - lr: 3.5481e-07\n",
            "Epoch 33/100\n",
            "93/93 [==============================] - 5s 53ms/step - loss: 18.5693 - lr: 3.9811e-07\n",
            "Epoch 34/100\n",
            "93/93 [==============================] - 4s 39ms/step - loss: 19.2191 - lr: 4.4668e-07\n",
            "Epoch 35/100\n",
            "93/93 [==============================] - 4s 39ms/step - loss: 18.8990 - lr: 5.0119e-07\n",
            "Epoch 36/100\n",
            "93/93 [==============================] - 5s 47ms/step - loss: 18.7461 - lr: 5.6234e-07\n",
            "Epoch 37/100\n",
            "93/93 [==============================] - 4s 39ms/step - loss: 18.6460 - lr: 6.3096e-07\n",
            "Epoch 38/100\n",
            "93/93 [==============================] - 4s 40ms/step - loss: 18.2546 - lr: 7.0795e-07\n",
            "Epoch 39/100\n",
            "93/93 [==============================] - 5s 50ms/step - loss: 18.4961 - lr: 7.9433e-07\n",
            "Epoch 40/100\n",
            "93/93 [==============================] - 4s 39ms/step - loss: 19.0375 - lr: 8.9125e-07\n",
            "Epoch 41/100\n",
            "93/93 [==============================] - 5s 47ms/step - loss: 18.6320 - lr: 1.0000e-06\n",
            "Epoch 42/100\n",
            "93/93 [==============================] - 6s 54ms/step - loss: 18.7669 - lr: 1.1220e-06\n",
            "Epoch 43/100\n",
            "93/93 [==============================] - 6s 61ms/step - loss: 19.0214 - lr: 1.2589e-06\n",
            "Epoch 44/100\n",
            "93/93 [==============================] - 4s 40ms/step - loss: 18.9866 - lr: 1.4125e-06\n",
            "Epoch 45/100\n",
            "93/93 [==============================] - 4s 39ms/step - loss: 18.3230 - lr: 1.5849e-06\n",
            "Epoch 46/100\n",
            "93/93 [==============================] - 5s 53ms/step - loss: 18.7224 - lr: 1.7783e-06\n",
            "Epoch 47/100\n",
            "93/93 [==============================] - 4s 39ms/step - loss: 19.3747 - lr: 1.9953e-06\n",
            "Epoch 48/100\n",
            "93/93 [==============================] - 4s 39ms/step - loss: 19.3027 - lr: 2.2387e-06\n",
            "Epoch 49/100\n",
            "93/93 [==============================] - 5s 52ms/step - loss: 20.6844 - lr: 2.5119e-06\n",
            "Epoch 50/100\n",
            "93/93 [==============================] - 4s 39ms/step - loss: 19.5304 - lr: 2.8184e-06\n",
            "Epoch 51/100\n",
            "93/93 [==============================] - 4s 39ms/step - loss: 19.6605 - lr: 3.1623e-06\n",
            "Epoch 52/100\n",
            "93/93 [==============================] - 4s 44ms/step - loss: 19.5559 - lr: 3.5481e-06\n",
            "Epoch 53/100\n",
            "93/93 [==============================] - 4s 39ms/step - loss: 20.1669 - lr: 3.9811e-06\n",
            "Epoch 54/100\n",
            "93/93 [==============================] - 4s 47ms/step - loss: 19.6220 - lr: 4.4668e-06\n",
            "Epoch 55/100\n",
            "93/93 [==============================] - 4s 39ms/step - loss: 19.8869 - lr: 5.0119e-06\n",
            "Epoch 56/100\n",
            "93/93 [==============================] - 4s 39ms/step - loss: 19.4758 - lr: 5.6234e-06\n",
            "Epoch 57/100\n",
            "93/93 [==============================] - 5s 53ms/step - loss: 20.4119 - lr: 6.3096e-06\n",
            "Epoch 58/100\n",
            "93/93 [==============================] - 4s 40ms/step - loss: 20.3135 - lr: 7.0795e-06\n",
            "Epoch 59/100\n",
            "93/93 [==============================] - 4s 40ms/step - loss: 19.6006 - lr: 7.9433e-06\n",
            "Epoch 60/100\n",
            "93/93 [==============================] - 4s 43ms/step - loss: 19.5613 - lr: 8.9125e-06\n",
            "Epoch 61/100\n",
            "93/93 [==============================] - 4s 39ms/step - loss: 21.0898 - lr: 1.0000e-05\n",
            "Epoch 62/100\n",
            "93/93 [==============================] - 5s 53ms/step - loss: 19.6454 - lr: 1.1220e-05\n",
            "Epoch 63/100\n",
            "93/93 [==============================] - 4s 40ms/step - loss: 21.0553 - lr: 1.2589e-05\n",
            "Epoch 64/100\n",
            "93/93 [==============================] - 4s 39ms/step - loss: 19.2343 - lr: 1.4125e-05\n",
            "Epoch 65/100\n",
            "93/93 [==============================] - 5s 53ms/step - loss: 20.3478 - lr: 1.5849e-05\n",
            "Epoch 66/100\n",
            "93/93 [==============================] - 4s 40ms/step - loss: 20.1148 - lr: 1.7783e-05\n",
            "Epoch 67/100\n",
            "93/93 [==============================] - 4s 40ms/step - loss: 19.7944 - lr: 1.9953e-05\n",
            "Epoch 68/100\n",
            "93/93 [==============================] - 5s 54ms/step - loss: 20.8833 - lr: 2.2387e-05\n",
            "Epoch 69/100\n",
            "93/93 [==============================] - 4s 39ms/step - loss: 20.2499 - lr: 2.5119e-05\n",
            "Epoch 70/100\n",
            "93/93 [==============================] - 4s 44ms/step - loss: 21.3179 - lr: 2.8184e-05\n",
            "Epoch 71/100\n",
            "93/93 [==============================] - 4s 39ms/step - loss: 20.5857 - lr: 3.1623e-05\n",
            "Epoch 72/100\n",
            "93/93 [==============================] - 4s 39ms/step - loss: 21.4446 - lr: 3.5481e-05\n",
            "Epoch 73/100\n",
            "93/93 [==============================] - 5s 53ms/step - loss: 20.9434 - lr: 3.9811e-05\n",
            "Epoch 74/100\n",
            "93/93 [==============================] - 4s 40ms/step - loss: 22.5099 - lr: 4.4668e-05\n",
            "Epoch 75/100\n",
            "93/93 [==============================] - 4s 39ms/step - loss: 25.0975 - lr: 5.0119e-05\n",
            "Epoch 76/100\n",
            "93/93 [==============================] - 4s 42ms/step - loss: 24.3647 - lr: 5.6234e-05\n",
            "Epoch 77/100\n",
            "93/93 [==============================] - 4s 39ms/step - loss: 22.5006 - lr: 6.3096e-05\n",
            "Epoch 78/100\n",
            "93/93 [==============================] - 5s 52ms/step - loss: 24.5907 - lr: 7.0795e-05\n",
            "Epoch 79/100\n",
            "93/93 [==============================] - 4s 39ms/step - loss: 24.3027 - lr: 7.9433e-05\n",
            "Epoch 80/100\n",
            "93/93 [==============================] - 4s 40ms/step - loss: 22.5730 - lr: 8.9125e-05\n",
            "Epoch 81/100\n",
            "93/93 [==============================] - 5s 49ms/step - loss: 23.8201 - lr: 1.0000e-04\n",
            "Epoch 82/100\n",
            "93/93 [==============================] - 4s 39ms/step - loss: 22.2586 - lr: 1.1220e-04\n",
            "Epoch 83/100\n",
            "93/93 [==============================] - 4s 41ms/step - loss: 24.4748 - lr: 1.2589e-04\n",
            "Epoch 84/100\n",
            "93/93 [==============================] - 4s 40ms/step - loss: 29.0942 - lr: 1.4125e-04\n",
            "Epoch 85/100\n",
            "93/93 [==============================] - 4s 39ms/step - loss: 28.5552 - lr: 1.5849e-04\n",
            "Epoch 86/100\n",
            "93/93 [==============================] - 5s 48ms/step - loss: 35.9171 - lr: 1.7783e-04\n",
            "Epoch 87/100\n",
            "93/93 [==============================] - 4s 39ms/step - loss: 46.6580 - lr: 1.9953e-04\n",
            "Epoch 88/100\n",
            "93/93 [==============================] - 4s 39ms/step - loss: 40.9944 - lr: 2.2387e-04\n",
            "Epoch 89/100\n",
            "93/93 [==============================] - 5s 53ms/step - loss: 50.6779 - lr: 2.5119e-04\n",
            "Epoch 90/100\n",
            "93/93 [==============================] - 4s 39ms/step - loss: 57.0786 - lr: 2.8184e-04\n",
            "Epoch 91/100\n",
            "93/93 [==============================] - 4s 39ms/step - loss: 57.9607 - lr: 3.1623e-04\n",
            "Epoch 92/100\n",
            "93/93 [==============================] - 5s 52ms/step - loss: 56.7923 - lr: 3.5481e-04\n",
            "Epoch 93/100\n",
            "93/93 [==============================] - 4s 40ms/step - loss: 55.8725 - lr: 3.9811e-04\n",
            "Epoch 94/100\n",
            "93/93 [==============================] - 4s 39ms/step - loss: 64.0663 - lr: 4.4668e-04\n",
            "Epoch 95/100\n",
            "93/93 [==============================] - 4s 44ms/step - loss: 65.2999 - lr: 5.0119e-04\n",
            "Epoch 96/100\n",
            "93/93 [==============================] - 4s 40ms/step - loss: 64.6549 - lr: 5.6234e-04\n",
            "Epoch 97/100\n",
            "93/93 [==============================] - 5s 53ms/step - loss: 65.1339 - lr: 6.3096e-04\n",
            "Epoch 98/100\n",
            "93/93 [==============================] - 4s 39ms/step - loss: 62.1808 - lr: 7.0795e-04\n",
            "Epoch 99/100\n",
            "93/93 [==============================] - 4s 39ms/step - loss: 64.6348 - lr: 7.9433e-04\n",
            "Epoch 100/100\n",
            "93/93 [==============================] - 5s 53ms/step - loss: 63.0805 - lr: 8.9125e-04\n"
          ]
        }
      ]
    },
    {
      "cell_type": "code",
      "source": [
        "# Define the learning rate decay\n",
        "lrs = 1e-8 * (10 ** np.arange(100)/20)\n",
        "\n",
        "# Set the figure size\n",
        "plt.figure(figsize = (10,6))\n",
        "\n",
        "# Set the grid\n",
        "plt.grid(True)\n",
        "\n",
        "# Plot the loss in log scale\n",
        "plt.semilogx(lrs,history.history['loss'])\n",
        "\n",
        "# Increase the tickmarks size\n",
        "plt.tick_params('both', length=10, width=1, which='both')\n",
        "\n",
        "# Set the plot boundaries\n",
        "plt.axis([1e-8, 1e-3, 0, 100])"
      ],
      "metadata": {
        "id": "QnIwJYrmKGTx"
      },
      "execution_count": null,
      "outputs": []
    },
    {
      "cell_type": "markdown",
      "source": [
        "# Train the model"
      ],
      "metadata": {
        "id": "meJKdLU4LiEQ"
      }
    },
    {
      "cell_type": "code",
      "source": [
        "# Reset states generated by keras\n",
        "tf.keras.backend.clear_session()\n",
        "\n",
        "# Reset the weights\n",
        "model.set_weights(init_weights)"
      ],
      "metadata": {
        "id": "x8Woe-7SLb82"
      },
      "execution_count": 37,
      "outputs": []
    },
    {
      "cell_type": "code",
      "source": [
        "# Set the learning rate scheduler\n",
        "learning_rate = 8e-7\n",
        "\n",
        "# Set the optimizer\n",
        "optimizer = tf.keras.optimizers.SGD(\n",
        "    learning_rate = learning_rate,\n",
        "    momentum = 0.9\n",
        ")\n",
        "\n",
        "# Set the training parameters\n",
        "model.compile(\n",
        "    loss = tf.keras.losses.Huber(),\n",
        "    optimizer = optimizer,\n",
        "    metrics = ['mae']\n",
        ")"
      ],
      "metadata": {
        "id": "EXdj8uetLwth"
      },
      "execution_count": 38,
      "outputs": []
    },
    {
      "cell_type": "code",
      "source": [
        "# Train the model\n",
        "history = model.fit(\n",
        "    train_set,\n",
        "    epochs = 100\n",
        ")"
      ],
      "metadata": {
        "id": "COtZJQuCMZIP"
      },
      "execution_count": null,
      "outputs": []
    },
    {
      "cell_type": "code",
      "source": [
        "# Get mae and loss from history log\n",
        "mae=history.history['mae']\n",
        "loss=history.history['loss']\n",
        "\n",
        "# Get number of epochs\n",
        "epochs=range(len(loss))\n",
        "\n",
        "# Plot mae and loss\n",
        "plot_series(\n",
        "    x=epochs,\n",
        "    y=(mae, loss),\n",
        "    title='MAE and Loss',\n",
        "    xlabel='MAE',\n",
        "    ylabel='Loss',\n",
        "    legend=['MAE', 'Loss']\n",
        "    )\n",
        "\n",
        "# Only plot the last 80% of the epochs\n",
        "zoom_split = int(epochs[-1] * 0.2)\n",
        "epochs_zoom = epochs[zoom_split:]\n",
        "mae_zoom = mae[zoom_split:]\n",
        "loss_zoom = loss[zoom_split:]\n",
        "\n",
        "# Plot zoomed mae and loss\n",
        "plot_series(\n",
        "    x=epochs_zoom,\n",
        "    y=(mae_zoom, loss_zoom),\n",
        "    title='MAE and Loss',\n",
        "    xlabel='MAE',\n",
        "    ylabel='Loss',\n",
        "    legend=['MAE', 'Loss']\n",
        "    )"
      ],
      "metadata": {
        "id": "22DbKzODOw-D"
      },
      "execution_count": null,
      "outputs": []
    },
    {
      "cell_type": "markdown",
      "source": [
        "# Model Prediction"
      ],
      "metadata": {
        "id": "Z952lwz2OypI"
      }
    },
    {
      "cell_type": "code",
      "source": [],
      "metadata": {
        "id": "LDifMcdQMe5l"
      },
      "execution_count": null,
      "outputs": []
    }
  ]
}