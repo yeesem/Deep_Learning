{
  "nbformat": 4,
  "nbformat_minor": 0,
  "metadata": {
    "colab": {
      "provenance": [],
      "authorship_tag": "ABX9TyNrugxrWV6q6w0a27+32LXi",
      "include_colab_link": true
    },
    "kernelspec": {
      "name": "python3",
      "display_name": "Python 3"
    },
    "language_info": {
      "name": "python"
    }
  },
  "cells": [
    {
      "cell_type": "markdown",
      "metadata": {
        "id": "view-in-github",
        "colab_type": "text"
      },
      "source": [
        "<a href=\"https://colab.research.google.com/github/yeesem/Deep_Learning/blob/main/Preparing_Time_Series_Features_and_Labels_in_Tensorflow.ipynb\" target=\"_parent\"><img src=\"https://colab.research.google.com/assets/colab-badge.svg\" alt=\"Open In Colab\"/></a>"
      ]
    },
    {
      "cell_type": "code",
      "execution_count": 1,
      "metadata": {
        "id": "wjdN_yC23RNV"
      },
      "outputs": [],
      "source": [
        "import tensorflow as tf"
      ]
    },
    {
      "cell_type": "code",
      "source": [
        "# Generate a tf dataset with 10 elements\n",
        "dataset = tf.data.Dataset.range(10)\n",
        "\n",
        "# Preview the result\n",
        "for val in dataset:\n",
        "  print(val)\n",
        "\n",
        "for val in dataset:\n",
        "  print(val.numpy())"
      ],
      "metadata": {
        "colab": {
          "base_uri": "https://localhost:8080/"
        },
        "id": "FzA5wwGP3y_b",
        "outputId": "c37a6083-8955-4ed9-9829-1048ac544bc1"
      },
      "execution_count": 3,
      "outputs": [
        {
          "output_type": "stream",
          "name": "stdout",
          "text": [
            "tf.Tensor(0, shape=(), dtype=int64)\n",
            "tf.Tensor(1, shape=(), dtype=int64)\n",
            "tf.Tensor(2, shape=(), dtype=int64)\n",
            "tf.Tensor(3, shape=(), dtype=int64)\n",
            "tf.Tensor(4, shape=(), dtype=int64)\n",
            "tf.Tensor(5, shape=(), dtype=int64)\n",
            "tf.Tensor(6, shape=(), dtype=int64)\n",
            "tf.Tensor(7, shape=(), dtype=int64)\n",
            "tf.Tensor(8, shape=(), dtype=int64)\n",
            "tf.Tensor(9, shape=(), dtype=int64)\n",
            "0\n",
            "1\n",
            "2\n",
            "3\n",
            "4\n",
            "5\n",
            "6\n",
            "7\n",
            "8\n",
            "9\n"
          ]
        }
      ]
    },
    {
      "cell_type": "code",
      "source": [
        "# Generate a tf dataset with 10 elements\n",
        "dataset = tf.data.Dataset.range(10)\n",
        "\n",
        "# Window the data\n",
        "dataset = dataset.window(size = 5,shift = 1)\n",
        "\n",
        "# Print the result\n",
        "for window_dataset in dataset:\n",
        "  print(window_dataset)\n",
        "\n",
        "for window_dataset in dataset:\n",
        "  print([item.numpy() for item in window_dataset])"
      ],
      "metadata": {
        "colab": {
          "base_uri": "https://localhost:8080/"
        },
        "id": "hp792frh4IrO",
        "outputId": "429ec19d-1c49-4ded-8f15-f47327b643cd"
      },
      "execution_count": 5,
      "outputs": [
        {
          "output_type": "stream",
          "name": "stdout",
          "text": [
            "<_VariantDataset element_spec=TensorSpec(shape=(), dtype=tf.int64, name=None)>\n",
            "<_VariantDataset element_spec=TensorSpec(shape=(), dtype=tf.int64, name=None)>\n",
            "<_VariantDataset element_spec=TensorSpec(shape=(), dtype=tf.int64, name=None)>\n",
            "<_VariantDataset element_spec=TensorSpec(shape=(), dtype=tf.int64, name=None)>\n",
            "<_VariantDataset element_spec=TensorSpec(shape=(), dtype=tf.int64, name=None)>\n",
            "<_VariantDataset element_spec=TensorSpec(shape=(), dtype=tf.int64, name=None)>\n",
            "<_VariantDataset element_spec=TensorSpec(shape=(), dtype=tf.int64, name=None)>\n",
            "<_VariantDataset element_spec=TensorSpec(shape=(), dtype=tf.int64, name=None)>\n",
            "<_VariantDataset element_spec=TensorSpec(shape=(), dtype=tf.int64, name=None)>\n",
            "<_VariantDataset element_spec=TensorSpec(shape=(), dtype=tf.int64, name=None)>\n",
            "[0, 1, 2, 3, 4]\n",
            "[1, 2, 3, 4, 5]\n",
            "[2, 3, 4, 5, 6]\n",
            "[3, 4, 5, 6, 7]\n",
            "[4, 5, 6, 7, 8]\n",
            "[5, 6, 7, 8, 9]\n",
            "[6, 7, 8, 9]\n",
            "[7, 8, 9]\n",
            "[8, 9]\n",
            "[9]\n"
          ]
        }
      ]
    },
    {
      "cell_type": "code",
      "source": [
        "# Generate a tf dataset with 10 elements\n",
        "dataset = tf.data.Dataset.range(10)\n",
        "\n",
        "# Window the data in specified size\n",
        "dataset = dataset.window(size = 5,shift = 1,drop_remainder = True)\n",
        "\n",
        "# Print the result\n",
        "for val in dataset:\n",
        "  print([item.numpy() for item in val])"
      ],
      "metadata": {
        "colab": {
          "base_uri": "https://localhost:8080/"
        },
        "id": "-ei2Phtd435L",
        "outputId": "14006c5b-728c-4122-ed42-c0e2c76e4b32"
      },
      "execution_count": 7,
      "outputs": [
        {
          "output_type": "stream",
          "name": "stdout",
          "text": [
            "[0, 1, 2, 3, 4]\n",
            "[1, 2, 3, 4, 5]\n",
            "[2, 3, 4, 5, 6]\n",
            "[3, 4, 5, 6, 7]\n",
            "[4, 5, 6, 7, 8]\n",
            "[5, 6, 7, 8, 9]\n"
          ]
        }
      ]
    },
    {
      "cell_type": "code",
      "source": [
        "# Generate a tf dataset with 10 elements (i.e. numbers 0 to 9)\n",
        "dataset = tf.data.Dataset.range(10)\n",
        "\n",
        "# Window the dataset\n",
        "dataset = dataset.window(5,shift = 1,drop_remainder = True)\n",
        "\n",
        "# Flatten the winowo by putting its element in a single batch\n",
        "dataset = dataset.flat_map(lambda window : window.batch(5))\n",
        "\n",
        "# Print the result\n",
        "for window in dataset:\n",
        "  print(window.numpy())"
      ],
      "metadata": {
        "colab": {
          "base_uri": "https://localhost:8080/"
        },
        "id": "pzBecTEP6Db_",
        "outputId": "279482c7-9e8f-4e8f-dbc4-e43a9885cb22"
      },
      "execution_count": 8,
      "outputs": [
        {
          "output_type": "stream",
          "name": "stdout",
          "text": [
            "[0 1 2 3 4]\n",
            "[1 2 3 4 5]\n",
            "[2 3 4 5 6]\n",
            "[3 4 5 6 7]\n",
            "[4 5 6 7 8]\n",
            "[5 6 7 8 9]\n"
          ]
        }
      ]
    },
    {
      "cell_type": "code",
      "source": [
        "# Generate a tf dataset with 10 elements (i.e. numbers 0 to 9)\n",
        "dataset = tf.data.Dataset.range(10)\n",
        "\n",
        "# Window the data but only take those with the specified size\n",
        "dataset = dataset.window(5, shift=1, drop_remainder=True)\n",
        "\n",
        "# Flatten the windows by putting its elements in a single batch\n",
        "dataset = dataset.flat_map(lambda window: window.batch(5))\n",
        "\n",
        "# Create tuples with features and labels\n",
        "dataset = dataset.map(lambda window : (window[:-1],window[-1]))\n",
        "\n",
        "for x,y in dataset:\n",
        "  print(\"X = \",x.numpy())\n",
        "  print(\"y = \",y.numpy())\n",
        "  print()"
      ],
      "metadata": {
        "colab": {
          "base_uri": "https://localhost:8080/"
        },
        "id": "EyQCmbEZ64aA",
        "outputId": "afb8f15b-54b8-4af4-f382-6f51d4e3bcab"
      },
      "execution_count": 10,
      "outputs": [
        {
          "output_type": "stream",
          "name": "stdout",
          "text": [
            "X =  [0 1 2 3]\n",
            "y =  4\n",
            "\n",
            "X =  [1 2 3 4]\n",
            "y =  5\n",
            "\n",
            "X =  [2 3 4 5]\n",
            "y =  6\n",
            "\n",
            "X =  [3 4 5 6]\n",
            "y =  7\n",
            "\n",
            "X =  [4 5 6 7]\n",
            "y =  8\n",
            "\n",
            "X =  [5 6 7 8]\n",
            "y =  9\n",
            "\n"
          ]
        }
      ]
    },
    {
      "cell_type": "code",
      "source": [
        "# Generate a tf dataset with 10 elements (i.e. numbers 0 to 9)\n",
        "dataset = tf.data.Dataset.range(10)\n",
        "\n",
        "# Window the data but only take those with the specified size\n",
        "dataset = dataset.window(5, shift=1, drop_remainder=True)\n",
        "\n",
        "# Flatten the windows by putting its elements in a single batch\n",
        "dataset = dataset.flat_map(lambda window: window.batch(5))\n",
        "\n",
        "# Create tuples with features (first four elements of the window) and labels (last element)\n",
        "dataset = dataset.map(lambda window: (window[:-1], window[-1]))\n",
        "\n",
        "# Shuffle the windows\n",
        "dataset = dataset.shuffle(buffer_size = 10)\n",
        "\n",
        "# Create batches of windows\n",
        "dataset = dataset.batch(2).prefetch(1)\n",
        "\n",
        "# Print the result\n",
        "for x,y in dataset:\n",
        "  print(\"X : \",x.numpy())\n",
        "  print(\"y : \",y.numpy())\n",
        "  print()"
      ],
      "metadata": {
        "colab": {
          "base_uri": "https://localhost:8080/"
        },
        "id": "IdS7-01R7WWr",
        "outputId": "7c98e027-24ab-41af-e0ca-eae4906558d0"
      },
      "execution_count": 11,
      "outputs": [
        {
          "output_type": "stream",
          "name": "stdout",
          "text": [
            "X :  [[0 1 2 3]\n",
            " [3 4 5 6]]\n",
            "y :  [4 7]\n",
            "\n",
            "X :  [[1 2 3 4]\n",
            " [4 5 6 7]]\n",
            "y :  [5 8]\n",
            "\n",
            "X :  [[5 6 7 8]\n",
            " [2 3 4 5]]\n",
            "y :  [9 6]\n",
            "\n"
          ]
        }
      ]
    }
  ]
}