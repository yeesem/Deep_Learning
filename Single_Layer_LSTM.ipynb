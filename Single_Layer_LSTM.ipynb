{
  "nbformat": 4,
  "nbformat_minor": 0,
  "metadata": {
    "colab": {
      "provenance": [],
      "gpuType": "T4",
      "authorship_tag": "ABX9TyP/fBljL5GXemG5c75u1vSa",
      "include_colab_link": true
    },
    "kernelspec": {
      "name": "python3",
      "display_name": "Python 3"
    },
    "language_info": {
      "name": "python"
    },
    "accelerator": "GPU"
  },
  "cells": [
    {
      "cell_type": "markdown",
      "metadata": {
        "id": "view-in-github",
        "colab_type": "text"
      },
      "source": [
        "<a href=\"https://colab.research.google.com/github/yeesem/Deep_Learning/blob/main/Single_Layer_LSTM.ipynb\" target=\"_parent\"><img src=\"https://colab.research.google.com/assets/colab-badge.svg\" alt=\"Open In Colab\"/></a>"
      ]
    },
    {
      "cell_type": "code",
      "execution_count": 21,
      "metadata": {
        "colab": {
          "base_uri": "https://localhost:8080/"
        },
        "id": "78wyZZDYRK9t",
        "outputId": "2c743438-cf3d-4a93-b53d-327da2be92ec"
      },
      "outputs": [
        {
          "output_type": "stream",
          "name": "stderr",
          "text": [
            "WARNING:absl:TFDS datasets with text encoding are deprecated and will be removed in a future version. Instead, you should use the plain text version and tokenize the text using `tensorflow_text` (See: https://www.tensorflow.org/tutorials/tensorflow_text/intro#tfdata_example)\n"
          ]
        }
      ],
      "source": [
        "import tensorflow_datasets as tfds\n",
        "\n",
        "# Download the subword encoded pretokenized dataset\n",
        "dataset, info = tfds.load('imdb_reviews/subwords8k', with_info=True, as_supervised=True)\n",
        "\n",
        "# Get the tokenizer\n",
        "tokenizer = info.features['text'].encoder"
      ]
    },
    {
      "cell_type": "code",
      "source": [
        "BUFFER_SIZE = 10000\n",
        "BATCH_SIZE = 256\n",
        "\n",
        "# Get the train and test splits\n",
        "train_data,test_data = dataset['train'],dataset['test']\n",
        "\n",
        "# Shuffle the training data\n",
        "train_dataset = train_data.shuffle(BUFFER_SIZE)\n",
        "\n",
        "# Batch and pad the datasets to the maximum length of the sequences\n",
        "train_dataset = train_data.padded_batch(BATCH_SIZE)\n",
        "test_dataset = test_data.padded_batch(BATCH_SIZE)"
      ],
      "metadata": {
        "id": "2p3s0XSCTe-F"
      },
      "execution_count": 22,
      "outputs": []
    },
    {
      "cell_type": "code",
      "source": [
        "import tensorflow as tf\n",
        "\n",
        "# Hyperparameters\n",
        "embedding_dim = 64\n",
        "lstm_dim = 64\n",
        "dense_dim = 64\n",
        "\n",
        "# Build the model\n",
        "model = tf.keras.Sequential([\n",
        "    tf.keras.layers.Embedding(tokenizer.vocab_size, embedding_dim),\n",
        "    tf.keras.layers.Bidirectional(tf.keras.layers.LSTM(lstm_dim)),\n",
        "    tf.keras.layers.Dense(dense_dim, activation='relu'),\n",
        "    tf.keras.layers.Dense(1, activation='sigmoid')\n",
        "])\n",
        "\n",
        "# Print the model summary\n",
        "model.summary()"
      ],
      "metadata": {
        "colab": {
          "base_uri": "https://localhost:8080/"
        },
        "id": "xv_pJ5qMUFeT",
        "outputId": "e5e471c3-85fe-40ed-db34-0f20caa8e6aa"
      },
      "execution_count": 23,
      "outputs": [
        {
          "output_type": "stream",
          "name": "stdout",
          "text": [
            "Model: \"sequential_4\"\n",
            "_________________________________________________________________\n",
            " Layer (type)                Output Shape              Param #   \n",
            "=================================================================\n",
            " embedding_4 (Embedding)     (None, None, 64)          523840    \n",
            "                                                                 \n",
            " bidirectional_4 (Bidirecti  (None, 128)               66048     \n",
            " onal)                                                           \n",
            "                                                                 \n",
            " dense_8 (Dense)             (None, 64)                8256      \n",
            "                                                                 \n",
            " dense_9 (Dense)             (None, 1)                 65        \n",
            "                                                                 \n",
            "=================================================================\n",
            "Total params: 598209 (2.28 MB)\n",
            "Trainable params: 598209 (2.28 MB)\n",
            "Non-trainable params: 0 (0.00 Byte)\n",
            "_________________________________________________________________\n"
          ]
        }
      ]
    },
    {
      "cell_type": "code",
      "source": [
        "# Set the training parameters\n",
        "model.compile(\n",
        "    loss = 'binary_crossentropy',\n",
        "    optimizer = 'adam',\n",
        "    metrics = ['accuracy']\n",
        ")"
      ],
      "metadata": {
        "id": "asFZWoNLXnEz"
      },
      "execution_count": 24,
      "outputs": []
    },
    {
      "cell_type": "code",
      "source": [
        "NUM_EPOCHS = 10\n",
        "\n",
        "history = model.fit(\n",
        "    train_dataset,\n",
        "    epochs = NUM_EPOCHS,\n",
        "    validation_data = test_dataset\n",
        ")"
      ],
      "metadata": {
        "colab": {
          "base_uri": "https://localhost:8080/"
        },
        "id": "2aMY00zzX1DJ",
        "outputId": "c84bb5fc-90a0-49e5-a283-d7676af95031"
      },
      "execution_count": 25,
      "outputs": [
        {
          "output_type": "stream",
          "name": "stdout",
          "text": [
            "Epoch 1/10\n",
            "98/98 [==============================] - 88s 295ms/step - loss: 0.6991 - accuracy: 0.5262 - val_loss: 0.6905 - val_accuracy: 0.5760\n",
            "Epoch 2/10\n",
            "98/98 [==============================] - 21s 211ms/step - loss: 0.6548 - accuracy: 0.6330 - val_loss: 0.5375 - val_accuracy: 0.7384\n",
            "Epoch 3/10\n",
            "98/98 [==============================] - 21s 211ms/step - loss: 0.4588 - accuracy: 0.7991 - val_loss: 0.4536 - val_accuracy: 0.7990\n",
            "Epoch 4/10\n",
            "98/98 [==============================] - 21s 216ms/step - loss: 0.5733 - accuracy: 0.7259 - val_loss: 0.6851 - val_accuracy: 0.5493\n",
            "Epoch 5/10\n",
            "98/98 [==============================] - 21s 212ms/step - loss: 0.6368 - accuracy: 0.6692 - val_loss: 0.6036 - val_accuracy: 0.6680\n",
            "Epoch 6/10\n",
            "98/98 [==============================] - 21s 211ms/step - loss: 0.4957 - accuracy: 0.7572 - val_loss: 0.5722 - val_accuracy: 0.6950\n",
            "Epoch 7/10\n",
            "98/98 [==============================] - 21s 213ms/step - loss: 0.4438 - accuracy: 0.8070 - val_loss: 0.6033 - val_accuracy: 0.6798\n",
            "Epoch 8/10\n",
            "98/98 [==============================] - 21s 212ms/step - loss: 0.3977 - accuracy: 0.8318 - val_loss: 0.5213 - val_accuracy: 0.7505\n",
            "Epoch 9/10\n",
            "98/98 [==============================] - 21s 214ms/step - loss: 0.3717 - accuracy: 0.8476 - val_loss: 0.5214 - val_accuracy: 0.7686\n",
            "Epoch 10/10\n",
            "98/98 [==============================] - 21s 216ms/step - loss: 0.3613 - accuracy: 0.8583 - val_loss: 0.4862 - val_accuracy: 0.7829\n"
          ]
        }
      ]
    },
    {
      "cell_type": "code",
      "source": [
        "import matplotlib.pyplot as plt\n",
        "\n",
        "# Plot utility\n",
        "def plot_graphs(history,string):\n",
        "  plt.plot(history.history[string])\n",
        "  plt.plot(history.history['val_' + string])\n",
        "  plt.xlabel('Epochs'),\n",
        "  plt.ylabel(string),\n",
        "  plt.legend([string,'val_'+string]),\n",
        "  plt.show()\n",
        "\n",
        "plot_graphs(history,'accuracy')\n",
        "plt.graphs(history,'loss')"
      ],
      "metadata": {
        "id": "TXGQ-0fSYCuh"
      },
      "execution_count": null,
      "outputs": []
    }
  ]
}